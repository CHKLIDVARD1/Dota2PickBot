{
 "cells": [
  {
   "cell_type": "code",
   "execution_count": null,
   "id": "dd9143ec",
   "metadata": {},
   "outputs": [],
   "source": [
    "from dotabuff_parce import *\n",
    "from aiogram import Bot, Dispatcher, executor, types\n",
    "import nest_asyncio \n",
    "nest_asyncio.apply()"
   ]
  },
  {
   "cell_type": "code",
   "execution_count": null,
   "id": "49569577",
   "metadata": {},
   "outputs": [],
   "source": [
    "token = 'YOUR TOKEN'\n",
    "\n",
    "bot = Bot(token = token)\n",
    "dp = Dispatcher(bot = bot)\n",
    "\n",
    "@dp.message_handler(commands = ['start'])\n",
    "async def start_handler(message: types.Message):\n",
    "    user_id = message.from_user.id\n",
    "    user_name = message.from_user.first_name\n",
    "    await message.reply(f'Privet, {user_name}!!!, напиши через запятую пул героев,\\\n",
    "    для которых нужно подобрать контрпик, например, Abaddon, Snapfire, Axe. Можно указать от одного\\\n",
    "    до пятерых героев.')\n",
    "\n",
    "@dp.message_handler()\n",
    "async def get_weather(message: types.Message):\n",
    "    \n",
    "    try:\n",
    "        pool = message.text.split(',')\n",
    "        pool = [i.strip() for i in pool]\n",
    "        while len(pool) != 5:\n",
    "            pool.append(None)\n",
    "        c_p = counterpick(pool[0], pool[1], pool[2], pool[3], pool[4])\n",
    "        answer1 = 'Лучшие герои для пика: '\n",
    "        for i in c_p[0]:\n",
    "            answer1 = answer1 + i +', '\n",
    "        answer1 = answer1[:-2]\n",
    "        answer2 = 'Худшие герои для пика: '\n",
    "        for i in c_p[1]:\n",
    "            answer2 = answer2 + i +', '\n",
    "        answer2 = answer2[:-2]\n",
    "    except:\n",
    "        await message.answer('Проверьте введенные данные на корректность!!!')\n",
    "        \n",
    "    await message.answer(f'{answer1} \\n {answer2}')\n",
    "    \n",
    "if __name__  == '__main__':\n",
    "    executor.start_polling(dp)"
   ]
  }
 ],
 "metadata": {
  "kernelspec": {
   "display_name": "Python 3",
   "language": "python",
   "name": "python3"
  },
  "language_info": {
   "codemirror_mode": {
    "name": "ipython",
    "version": 3
   },
   "file_extension": ".py",
   "mimetype": "text/x-python",
   "name": "python",
   "nbconvert_exporter": "python",
   "pygments_lexer": "ipython3",
   "version": "3.8.8"
  }
 },
 "nbformat": 4,
 "nbformat_minor": 5
}
